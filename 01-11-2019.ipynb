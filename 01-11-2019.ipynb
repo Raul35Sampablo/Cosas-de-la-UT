{
 "cells": [
  {
   "cell_type": "markdown",
   "metadata": {},
   "source": [
    "## 01-11-2019 exercise"
   ]
  },
  {
   "cell_type": "code",
   "execution_count": 1,
   "metadata": {
    "scrolled": false
   },
   "outputs": [
    {
     "name": "stdout",
     "output_type": "stream",
     "text": [
      "How many data would you like to introduce?\n",
      "2\n"
     ]
    }
   ],
   "source": [
    "print(\"How many data would you like to introduce?\")   #We print the message\n",
    "x = int(input())                                      #and introduce the number of data would you like to introduce"
   ]
  },
  {
   "cell_type": "code",
   "execution_count": 2,
   "metadata": {},
   "outputs": [],
   "source": [
    "list = []                                             #Make a variable of list"
   ]
  },
  {
   "cell_type": "code",
   "execution_count": 4,
   "metadata": {},
   "outputs": [
    {
     "name": "stdout",
     "output_type": "stream",
     "text": [
      "Introduce the name:Raul\n",
      "Introduce the name:Walter\n"
     ]
    }
   ],
   "source": [
    "for i in range (x):                                   #We make a loop and the limit is the value into the variable of x\n",
    "    y = input(\"Introduce the name:\")                  #Introduce the names\n",
    "    list.append(y)                                    #and save into the list"
   ]
  },
  {
   "cell_type": "code",
   "execution_count": 5,
   "metadata": {},
   "outputs": [
    {
     "name": "stdout",
     "output_type": "stream",
     "text": [
      "Introduce the name would you like to verify:1\n",
      "Walter\n"
     ]
    }
   ],
   "source": [
    "n = int(input(\"Introduce the number would you like to verify:\"))    #Introduce the number\n",
    "\n",
    "if n < x:\n",
    "    print(list[n])    #If the number is less than x, print the name \n",
    "else:\n",
    "    print(\"Wrong number........\")  #If not, print the messagge......"
   ]
  }
 ],
 "metadata": {
  "kernelspec": {
   "display_name": "Python 3",
   "language": "python",
   "name": "python3"
  },
  "language_info": {
   "codemirror_mode": {
    "name": "ipython",
    "version": 3
   },
   "file_extension": ".py",
   "mimetype": "text/x-python",
   "name": "python",
   "nbconvert_exporter": "python",
   "pygments_lexer": "ipython3",
   "version": "3.7.3"
  }
 },
 "nbformat": 4,
 "nbformat_minor": 2
}
