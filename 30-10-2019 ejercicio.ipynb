{
 "cells": [
  {
   "cell_type": "markdown",
   "metadata": {},
   "source": [
    "## **Calculo del promedio (media) dentro de un conjunto de datos**"
   ]
  },
  {
   "cell_type": "markdown",
   "metadata": {},
   "source": [
    "En este caso, para ahorrarnos las operaciones y hacer que nuestro codigo sea mas flexible, usaremos la libreria Numpy"
   ]
  },
  {
   "cell_type": "code",
   "execution_count": 1,
   "metadata": {},
   "outputs": [],
   "source": [
    "import numpy as np   #Importamos la libreria Numpy"
   ]
  },
  {
   "cell_type": "code",
   "execution_count": 12,
   "metadata": {},
   "outputs": [
    {
     "name": "stdout",
     "output_type": "stream",
     "text": [
      "Ingresa la edad de 3 alumnos\n"
     ]
    },
    {
     "name": "stdin",
     "output_type": "stream",
     "text": [
      "Ingresa la edad del primer alumno 46\n",
      "Ingresa la edad del segundo alumno 78\n",
      "Ingresa la edad del tercero alumno 56\n"
     ]
    }
   ],
   "source": [
    "print(\"Ingresa la edad de 3 alumnos\")    #Le pedimos los datos al usuario\n",
    "\n",
    "\n",
    "estud_1 = float(input(\"Ingresa la edad del primer alumno\"))  #Le pedimos la edad del primer alumno\n",
    "estud_2 = float(input(\"Ingresa la edad del segundo alumno\")) #Le pedimos la edad del segundo alumno\n",
    "estud_3 = float(input(\"Ingresa la edad del tercero alumno\")) #Le pedimos la edad del tercer alumno\n",
    "\n",
    "#Ingresamos el tipo de valor --> float(input(..........))\n",
    "#Para que al momento del calculo, no lo detecte como entero\n",
    "#y sea mas exacto el calculo\n",
    "\n",
    "x = [estud_1, estud_2, estud_3] #Reunimos todos esos datos en un array"
   ]
  },
  {
   "cell_type": "code",
   "execution_count": 13,
   "metadata": {},
   "outputs": [],
   "source": [
    "x1 = np.mean(x)  #con la funcion np.mean(...) sacamos la media o promedio de un conjunto de datos"
   ]
  },
  {
   "cell_type": "code",
   "execution_count": 18,
   "metadata": {},
   "outputs": [
    {
     "name": "stdout",
     "output_type": "stream",
     "text": [
      "La media de las edades es: 60.0\n"
     ]
    }
   ],
   "source": [
    "print(f\"La media de las edades es: {x1}\")"
   ]
  }
 ],
 "metadata": {
  "kernelspec": {
   "display_name": "Python 3",
   "language": "python",
   "name": "python3"
  },
  "language_info": {
   "codemirror_mode": {
    "name": "ipython",
    "version": 3
   },
   "file_extension": ".py",
   "mimetype": "text/x-python",
   "name": "python",
   "nbconvert_exporter": "python",
   "pygments_lexer": "ipython3",
   "version": "3.7.3"
  }
 },
 "nbformat": 4,
 "nbformat_minor": 4
}
