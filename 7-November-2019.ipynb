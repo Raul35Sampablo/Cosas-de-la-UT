{
 "cells": [
  {
   "cell_type": "markdown",
   "metadata": {},
   "source": [
    "## Exercise 7-November-2019\n",
    "\n",
    "We need to calculate sample mean, sample standard deviation and mode\n",
    "The user need to int"
   ]
  },
  {
   "cell_type": "code",
   "execution_count": 41,
   "metadata": {},
   "outputs": [],
   "source": [
    "#We declarate our variables\n",
    "n1=0  \n",
    "lista=[]\n",
    "DE_list=[]\n",
    "moda=[]\n",
    "suma=0\n",
    "suma_c=0\n",
    "p1 = 0\n",
    "a = 0\n",
    "r = 0\n",
    "j = 0"
   ]
  },
  {
   "cell_type": "code",
   "execution_count": 42,
   "metadata": {},
   "outputs": [
    {
     "name": "stdin",
     "output_type": "stream",
     "text": [
      "How many data would you like to introduce?:  4\n"
     ]
    }
   ],
   "source": [
    "n3 = int(input('How many data would you like to introduce?: ')) #Introduce our data"
   ]
  },
  {
   "cell_type": "code",
   "execution_count": 43,
   "metadata": {},
   "outputs": [
    {
     "name": "stdin",
     "output_type": "stream",
     "text": [
      "valor:  1\n",
      "valor:  2\n",
      "valor:  3\n",
      "valor:  4\n"
     ]
    }
   ],
   "source": [
    "while n1 < n3:                   #Using \"while\" loop, calculate some statistical parameters\n",
    "    n2=float(input('valor: '))   \n",
    "    lista.append(n2)             \n",
    "    #Sample mean:\n",
    "    suma=suma+n2\n",
    "    media = (suma/n3)\n",
    "    n1+=1\n",
    "          \n",
    "    if n1 == n3:                 \n",
    "        \n",
    "        #Sample standard deviation\n",
    "        for i in range (n3):          \n",
    "            x = (media-lista[i])**2\n",
    "            DE_list.append(x)\n",
    "            i+=1\n",
    "            \n",
    "            \n",
    "        #Mode\n",
    "        for j in lista:\n",
    "            a = lista.count(j)\n",
    "            if a > r:\n",
    "                    r = a\n",
    "\n",
    "        modes = []                                                                               \n",
    "        for j in lista:                                                                              \n",
    "            a = lista.count(j)                                                             \n",
    "            if a == r and i not in modes:                                   \n",
    "                    modes.append(j)  \n",
    "\n",
    "    \n",
    "    de = ((sum(DE_list))/(n3-1))**(1/2)   #And When tha loop finish, calculate the standard deviatio"
   ]
  },
  {
   "cell_type": "code",
   "execution_count": 46,
   "metadata": {},
   "outputs": [
    {
     "name": "stdout",
     "output_type": "stream",
     "text": [
      "The sample mean is: 2.5\n",
      "The sample standard deviation is: 1.2909944487358056\n",
      "The mode is:[1.0, 2.0, 3.0, 4.0]\n"
     ]
    }
   ],
   "source": [
    "print(f\"The sample mean is: {media}\")\n",
    "print(f\"The sample standard deviation is: {de}\")\n",
    "print (f\"The mode is:{modes}\")"
   ]
  },
  {
   "cell_type": "code",
   "execution_count": null,
   "metadata": {},
   "outputs": [],
   "source": []
  }
 ],
 "metadata": {
  "kernelspec": {
   "display_name": "Python 3",
   "language": "python",
   "name": "python3"
  },
  "language_info": {
   "codemirror_mode": {
    "name": "ipython",
    "version": 3
   },
   "file_extension": ".py",
   "mimetype": "text/x-python",
   "name": "python",
   "nbconvert_exporter": "python",
   "pygments_lexer": "ipython3",
   "version": "3.7.4"
  }
 },
 "nbformat": 4,
 "nbformat_minor": 4
}
