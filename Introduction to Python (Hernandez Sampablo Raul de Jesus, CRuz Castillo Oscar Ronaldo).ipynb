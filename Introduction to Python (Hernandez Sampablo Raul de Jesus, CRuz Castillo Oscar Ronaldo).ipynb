{
 "cells": [
  {
   "cell_type": "markdown",
   "metadata": {},
   "source": [
    "## **Exercise 1**\n",
    "\n",
    "**print()**\n",
    "\n",
    "We will make different of basic prints"
   ]
  },
  {
   "cell_type": "code",
   "execution_count": 14,
   "metadata": {},
   "outputs": [
    {
     "name": "stdout",
     "output_type": "stream",
     "text": [
      "I learn to use phyton\n",
      "This is new to me.\n",
      "and I'm print\n",
      "How are you?\n",
      "It's something 'laborious'.\n",
      "\"may\" be a bit complicated.\n"
     ]
    }
   ],
   "source": [
    "print (\"I learn to use phyton\")\n",
    "print (\"This is new to me.\")\n",
    "print (\"and I'm print\")\n",
    "print (\"How are you?\")\n",
    "print (\"It's something 'laborious'.\")\n",
    "print ('\"may\" be a bit complicated.')"
   ]
  },
  {
   "cell_type": "markdown",
   "metadata": {},
   "source": [
    "## **Exercise 2**\n",
    " **#coments**\n",
    " \n",
    "In this exercise we'll learn how to make comments in Python"
   ]
  },
  {
   "cell_type": "code",
   "execution_count": 2,
   "metadata": {},
   "outputs": [
    {
     "name": "stdout",
     "output_type": "stream",
     "text": [
      "Hello, how are you?\n",
      "This will be printed\n"
     ]
    }
   ],
   "source": [
    "#In phyton we can add comments this becomes useful for me\n",
    "#This will not be printed on the screen so write what you want\n",
    "print (\"Hello, how are you?\") #Programming is fun\n",
    "#Apparently everything you write as a comment will not be printed having proof\n",
    "#print (\"This will not be printed\")\n",
    "print (\"This will be printed\")"
   ]
  },
  {
   "cell_type": "markdown",
   "metadata": {},
   "source": [
    "## **Exercise 3**\n",
    "\n",
    "In this exercise we see the arithmethic operations in Python"
   ]
  },
  {
   "cell_type": "markdown",
   "metadata": {},
   "source": [
    "<img src = http://2.bp.blogspot.com/-VRsTNft0Reg/URzuuzBfP3I/AAAAAAAAASw/jKsf2uUtNFA/s400/14.JPG>"
   ]
  },
  {
   "cell_type": "markdown",
   "metadata": {},
   "source": [
    "<img src = http://www2.hawaii.edu/~takebaya/cent110/selection/arithmetic_operators.png>"
   ]
  },
  {
   "cell_type": "code",
   "execution_count": 11,
   "metadata": {},
   "outputs": [
    {
     "name": "stdout",
     "output_type": "stream",
     "text": [
      "(This is a math practice) How many are we in the classroom?\n",
      "Men 21.0\n",
      "Women 100\n",
      "We can count how many of us are of legal age in the classroom\n",
      "7.75\n",
      "Is 3 + 1> 3-1?\n",
      "True\n",
      "What is 2 + 1? 3\n",
      "What is 33-12? 21\n",
      "It could be real or false I don't know\n",
      "Is 5 greater than 3? True\n",
      "Is 3 greater than or equal to 1? True\n",
      "Is 4 less than or equal to 2? False\n"
     ]
    }
   ],
   "source": [
    "print (\"(This is a math practice) How many are we in the classroom?\")\n",
    "print (\"Men\", 16 + 15/3)\n",
    "print (\"Women\", 100-44 * 20% 2)\n",
    "print (\"We can count how many of us are of legal age in the classroom\")\n",
    "print (5 + 2 + 3-4 / 2 + 3% 3-1 / 4% 3)\n",
    "print (\"Is 3 + 1> 3-1?\")\n",
    "print (3 + 1> 3-1)\n",
    "print (\"What is 2 + 1?\", 2 + 1)\n",
    "print (\"What is 33-12?\", 33-12)\n",
    "print (\"It could be real or false I don't know\")\n",
    "print (\"Is 5 greater than 3?\", 5> 3)\n",
    "print (\"Is 3 greater than or equal to 1?\", 3 >= 1)\n",
    "print (\"Is 4 less than or equal to 2?\", 4 <= 2)"
   ]
  },
  {
   "cell_type": "markdown",
   "metadata": {},
   "source": [
    "## **Exercise 4**\n",
    "\n",
    "In this excercise will add variables in our prints"
   ]
  },
  {
   "cell_type": "code",
   "execution_count": 10,
   "metadata": {},
   "outputs": [
    {
     "name": "stdout",
     "output_type": "stream",
     "text": [
      "There 30 Taxis Available.\n",
      "There are 20 drivers.\n",
      "habra 20 driverless cars\n",
      "we can transport 4 today.\n",
      "We have 50 passengers today.\n",
      "We need 2.5 in each taxi.\n"
     ]
    }
   ],
   "source": [
    "Taxis = 30\n",
    "space = 4\n",
    "drivers = 20\n",
    "passengers = 50\n",
    "sin = Taxis-drivers\n",
    "without = drivers\n",
    "capacity = without * space\n",
    "average = passengers / without\n",
    "print (\"There\", Taxis, \"Taxis Available.\")\n",
    "print (\"There are\", drivers, \"drivers.\")\n",
    "print (\"habra\", without, \"driverless cars\")\n",
    "print (\"we can transport\", space, \"today.\")\n",
    "print (\"We have\", passengers, \"passengers today.\")\n",
    "print (\"We need\", average, \"in each taxi.\")\n"
   ]
  },
  {
   "cell_type": "markdown",
   "metadata": {},
   "source": [
    "## **Exercise 5**\n",
    "**Adding more variable**\n",
    "\n",
    "In this case we use the letter **f** before a **quotation marks**\n"
   ]
  },
  {
   "cell_type": "code",
   "execution_count": 57,
   "metadata": {},
   "outputs": [
    {
     "name": "stdout",
     "output_type": "stream",
     "text": [
      "Mi nombre es Raul\n",
      "Mi edad es de 19 años\n",
      "Mi altura es de 168 cm\n",
      "Mi color de ojos es Negros\n",
      "Mi color de cabello es Negro\n"
     ]
    }
   ],
   "source": [
    "Nombre = \"Raul\"       #The variable Nombre have the value of \"Raul\"\n",
    "Edad = 19             #The variable Edad have the value of 19\n",
    "Altura = 168          #The variable Altura is 168\n",
    "Ojos = \"Negros\"       #The variable Ojos is \"Negro\"\n",
    "Cabello = \"Negro\"     #The variable Cabello is \"Negro\"\n",
    "\n",
    "print(f\"Mi nombre es {Nombre}\")\n",
    "print(f\"Mi edad es de {Edad} años\")\n",
    "print(f\"Mi altura es de {Altura} cm\")\n",
    "print(f\"Mi color de ojos es {Ojos}\")\n",
    "print(f\"Mi color de cabello es {Cabello}\")\n",
    "\n",
    "#We put the f after the quotation marks"
   ]
  },
  {
   "cell_type": "markdown",
   "metadata": {},
   "source": [
    "## **Exercise 6**\n",
    "**String and text**\n",
    "\n",
    "In this case we can learn more example using string and variables and python\n"
   ]
  },
  {
   "cell_type": "code",
   "execution_count": 59,
   "metadata": {},
   "outputs": [
    {
     "name": "stdout",
     "output_type": "stream",
     "text": [
      "Hay 230 razas de gatos diferentes en Mexico\n",
      "Pero no todos los ciudadanos saben eso\n",
      "Yo digo que: Hay 230 razas de gatos diferentes en Mexico\n",
      "La encuestadora responde: Pero no todos los ciudadanos saben eso\n",
      "Que lo publiquen en los periodicos False\n",
      "Hay 230 razas de gatos diferentes en Mexico pero no todos los ciudadanos saben eso\n"
     ]
    }
   ],
   "source": [
    "#We define our variables, some are \"string\"\n",
    "tipos_de_gatos= 230\n",
    "x = f\"Hay {tipos_de_gatos} razas de gatos diferentes en Mexico\"\n",
    "\n",
    "l = \"los\"\n",
    "s = \"saben\"\n",
    "\n",
    "y = f\"Pero no todos {l} ciudadanos {s} eso\"\n",
    "\n",
    "#Print \"x\" and \"y\"\n",
    "print (x)\n",
    "print (y)\n",
    "\n",
    "#\"We print the phrase and the variable \"x\"\n",
    "print (f\"Yo digo que: {x}\")\n",
    "print (f\"La encuestadora responde: {y}\")\n",
    "\n",
    "afirmacion = False\n",
    "n = 1\n",
    "\n",
    "consejo = \"Que lo publiquen en los periodicos {}\"\n",
    "\n",
    "#We use the function format to convert in a type of text a variable\n",
    "print(consejo.format(afirmacion))\n",
    "\n",
    "x1 = f\"Hay {tipos_de_gatos} razas de gatos diferentes en Mexico\"\n",
    "y1 = f\" pero no todos {l} ciudadanos {s} eso\"\n",
    "\n",
    "#\"Make a addition\"\n",
    "print(x1+y1)"
   ]
  },
  {
   "cell_type": "markdown",
   "metadata": {},
   "source": [
    "## **Exercise 7**\n",
    "**More exercises with the function print**\n",
    "\n",
    "In this case, we'll learn how to sum \"letter variable\" and use the function **end=' '**"
   ]
  },
  {
   "cell_type": "code",
   "execution_count": 60,
   "metadata": {},
   "outputs": [
    {
     "name": "stdout",
     "output_type": "stream",
     "text": [
      "Me gusta comer hamburguesas.\n",
      "Y Hot-Dogs\n",
      "¿Donde quieres comer?\n",
      ".#.#.#.#.#.#.#.#.#.#.#.#.#.#.#\n",
      "Burger King\n"
     ]
    }
   ],
   "source": [
    "#In this case we make a simple print\n",
    "print(\"Me gusta comer {}.\".format('hamburguesas'))\n",
    "print(\"Y Hot-Dogs\")\n",
    "print(\"¿Donde quieres comer?\")\n",
    "print(\".#\" * 15)\n",
    "\n",
    "#Make our variables\n",
    "l_1 = \"B\"\n",
    "l_2 = \"u\"\n",
    "l_3 = \"r\"\n",
    "l_4 = \"g\"\n",
    "l_5 = \"e\"\n",
    "l_6 = \"r\"\n",
    "l_7 = \"K\"\n",
    "l_8 = \"i\"\n",
    "l_9 = \"n\"\n",
    "l_10 = \"g\"\n",
    "\n",
    "#we add all of these variables \n",
    "#And add the function end=' '\n",
    "print(l_1 + l_2 + l_3 + l_4 + l_5 + l_6, end=' ')\n",
    "print(l_7 + l_8 + l_9 + l_10)"
   ]
  },
  {
   "cell_type": "code",
   "execution_count": 61,
   "metadata": {},
   "outputs": [
    {
     "name": "stdout",
     "output_type": "stream",
     "text": [
      "Burger\n",
      "King\n"
     ]
    }
   ],
   "source": [
    "#If we don't add the function end=' ' \n",
    "print(l_1 + l_2 + l_3 + l_4 + l_5 + l_6)\n",
    "print(l_7 + l_8 + l_9 + l_10)"
   ]
  },
  {
   "cell_type": "markdown",
   "metadata": {},
   "source": [
    "## **Exercise 8**\n",
    "**More exercises with \"format\"**\n",
    "\n",
    "In this case we see more examples with **\"format\"** con a \"limited array\""
   ]
  },
  {
   "cell_type": "code",
   "execution_count": 62,
   "metadata": {},
   "outputs": [
    {
     "name": "stdout",
     "output_type": "stream",
     "text": [
      "5 6 7 8 9\n",
      "fünf sechs sieben acht neun\n",
      "True False True False False\n",
      "{} {} {} {} {} {} {} {} {} {} {} {} {} {} {} {} {} {} {} {} {} {} {} {} {}\n",
      "Ich bin Sampablo und ich habe ein Apfel in mein Hause\n"
     ]
    }
   ],
   "source": [
    "#We creatce a \"strange type of array\"\n",
    "#A \"key pair\" is a variable\n",
    "xu = \"{} {} {} {} {}\"\n",
    "\n",
    "#With the comand format we can add values, but only fuve \n",
    "print(xu.format(5,6,7,8,9))\n",
    "print(xu.format(\"fünf\", \"sechs\", \"sieben\", \"acht\", \"neun\"))\n",
    "print(xu.format(True, False, True, False, False))\n",
    "print(xu.format(xu, xu, xu, xu, xu))\n",
    "print(xu.format(\n",
    "    \"Ich bin\",\n",
    "    \"Sampablo\",\n",
    "    \"und ich habe\",\n",
    "    \"ein Apfel\",\n",
    "    \"in mein Hause\",\n",
    "))"
   ]
  },
  {
   "cell_type": "code",
   "execution_count": 64,
   "metadata": {},
   "outputs": [
    {
     "ename": "IndexError",
     "evalue": "tuple index out of range",
     "output_type": "error",
     "traceback": [
      "\u001b[0;31m---------------------------------------------------------------------------\u001b[0m",
      "\u001b[0;31mIndexError\u001b[0m                                Traceback (most recent call last)",
      "\u001b[0;32m<ipython-input-64-9f0324a5bec3>\u001b[0m in \u001b[0;36m<module>\u001b[0;34m\u001b[0m\n\u001b[1;32m      1\u001b[0m \u001b[0;31m#If you don't add 5 values,Pytho mark and error\u001b[0m\u001b[0;34m\u001b[0m\u001b[0;34m\u001b[0m\u001b[0;34m\u001b[0m\u001b[0m\n\u001b[0;32m----> 2\u001b[0;31m \u001b[0mprint\u001b[0m\u001b[0;34m(\u001b[0m\u001b[0mxu\u001b[0m\u001b[0;34m.\u001b[0m\u001b[0mformat\u001b[0m\u001b[0;34m(\u001b[0m\u001b[0;34m\"fünf\"\u001b[0m\u001b[0;34m,\u001b[0m \u001b[0;34m\"sechs\"\u001b[0m\u001b[0;34m,\u001b[0m \u001b[0;34m\"sieben\"\u001b[0m\u001b[0;34m,\u001b[0m \u001b[0;34m\"acht\"\u001b[0m\u001b[0;34m)\u001b[0m\u001b[0;34m)\u001b[0m\u001b[0;34m\u001b[0m\u001b[0;34m\u001b[0m\u001b[0m\n\u001b[0m",
      "\u001b[0;31mIndexError\u001b[0m: tuple index out of range"
     ]
    }
   ],
   "source": [
    "#If you don't add 5 values,Pytho mark and error\n",
    "print(xu.format(\"fünf\", \"sechs\", \"sieben\", \"acht\"))"
   ]
  },
  {
   "cell_type": "markdown",
   "metadata": {},
   "source": [
    "## **Exercise 9**\n",
    "**Using /n**\n",
    "\n",
    "In this exercise we use **/n** into our \"print\""
   ]
  },
  {
   "cell_type": "code",
   "execution_count": 48,
   "metadata": {},
   "outputs": [
    {
     "name": "stdout",
     "output_type": "stream",
     "text": [
      "The numbers are:  5,6,7,8,9\n",
      "In german are:  fünf\n",
      "sechs\n",
      "sieben\n",
      "acht\n",
      "neun\n"
     ]
    }
   ],
   "source": [
    "n = \"5,6,7,8,9\"\n",
    "m = \"fünf\\nsechs\\nsieben\\nacht\\nneun\" #each \\n is a newline or a \"jump\"\n",
    "\n",
    "print(\"The numbers are: \",n)\n",
    "print(\"In german are: \",m)"
   ]
  },
  {
   "cell_type": "markdown",
   "metadata": {},
   "source": [
    "## **Exercise 10**\n",
    "**Escape Sequences**\n",
    "\n",
    "In this exercise different types of **Escape Sequences** in Python"
   ]
  },
  {
   "cell_type": "markdown",
   "metadata": {},
   "source": [
    "<img src = https://i.stack.imgur.com/5n66Q.png>"
   ]
  },
  {
   "cell_type": "code",
   "execution_count": 56,
   "metadata": {},
   "outputs": [
    {
     "name": "stdout",
     "output_type": "stream",
     "text": [
      "\t Hi youtubers\n",
      "Star\n",
      "Wars\n",
      "Back\\to\\the\\future\n",
      "\n",
      "We make a list, for example:\n",
      "\t-apple\n",
      "\t-banana\n",
      "\t-pencil\n",
      "\t-onion\n",
      "\n"
     ]
    }
   ],
   "source": [
    "mt = \"\\t Hi youtubers\" #\\t make a tab\n",
    "mp = \"Star\\nWars\"      #\\n make a \"jump\"   \n",
    "mb = \"Back\\\\to\\\\the\\\\future\"  #\\\\ this mark a separation\n",
    "\n",
    "#If you put \"\" into the extremes, you can make tabs, for this example a list\n",
    "ml = \"\"\"\n",
    "We make a list, for example:\n",
    "\\t-apple\n",
    "\\t-banana\n",
    "\\t-pencil\n",
    "\\t-onion\n",
    "\"\"\"\n",
    "\n",
    "print(mt)\n",
    "print(mp)\n",
    "print(mb)\n",
    "print(ml)"
   ]
  }
 ],
 "metadata": {
  "kernelspec": {
   "display_name": "Python 3",
   "language": "python",
   "name": "python3"
  },
  "language_info": {
   "codemirror_mode": {
    "name": "ipython",
    "version": 3
   },
   "file_extension": ".py",
   "mimetype": "text/x-python",
   "name": "python",
   "nbconvert_exporter": "python",
   "pygments_lexer": "ipython3",
   "version": "3.7.3"
  }
 },
 "nbformat": 4,
 "nbformat_minor": 4
}
