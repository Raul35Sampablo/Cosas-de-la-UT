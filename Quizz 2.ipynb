{
 "cells": [
  {
   "cell_type": "markdown",
   "metadata": {},
   "source": [
    "# **Linear regression**"
   ]
  },
  {
   "cell_type": "markdown",
   "metadata": {},
   "source": [
    "#### Integrants:\n",
    "    - Alvarez Perez Javier Alejandro\n",
    "    - Alvarez Torres Jesus Adrian\n",
    "    - Cepeda Castillo Juan E\n",
    "    - Hernandez Sampablo Raul de Jesus\n",
    "    - Martinez Alvarado Carolina\n",
    "    - Ponce Gonzalez Christopher\n",
    "    - Rodriguez Juarez Giovanna Abigail\n",
    "    \n",
    "\n",
    "#### 3B"
   ]
  },
  {
   "cell_type": "code",
   "execution_count": 1,
   "metadata": {},
   "outputs": [
    {
     "name": "stdout",
     "output_type": "stream",
     "text": [
      "How many data would you like to introduce?\n"
     ]
    },
    {
     "name": "stdin",
     "output_type": "stream",
     "text": [
      " 3\n"
     ]
    }
   ],
   "source": [
    "print(\"How many data would you like to introduce?\") #We print the message\n",
    "n = int(input())                                    #And save our n variable"
   ]
  },
  {
   "cell_type": "code",
   "execution_count": 2,
   "metadata": {},
   "outputs": [],
   "source": [
    "listx = []  #In this case we separate our data in two: listx and listy --> (x,y)\n",
    "listy = []"
   ]
  },
  {
   "cell_type": "code",
   "execution_count": 3,
   "metadata": {},
   "outputs": [
    {
     "name": "stdin",
     "output_type": "stream",
     "text": [
      "Introduce x1: 1\n",
      "Introduce x2: 5\n",
      "Introduce x3: 7\n",
      "Introduce y1: 8\n",
      "Introduce y2: 9.5\n",
      "Introduce y3: 3.1416\n"
     ]
    }
   ],
   "source": [
    "for i in range (n):                                 #We make a loop and the limit is n, increement by one \"i\"\n",
    "    i+=1                                            \n",
    "    y = float(input(f\"Introduce x{i}:\"))            #Print the message      \n",
    "    listx.append(y)                                 #add the numer in listx\n",
    "\n",
    "for i in range (n):                                 #We make a loop and the limit is n, increement by one \"i\"\n",
    "    i+=1\n",
    "    x = float(input(f\"Introduce y{i}:\"))            #Print the message \n",
    "    listy.append(x)                                 #add the numer in listy"
   ]
  },
  {
   "cell_type": "code",
   "execution_count": 4,
   "metadata": {},
   "outputs": [
    {
     "name": "stdout",
     "output_type": "stream",
     "text": [
      "[1.0, 5.0, 7.0]\n",
      "[8.0, 9.5, 3.1416]\n"
     ]
    }
   ],
   "source": [
    "print(listx)       #In this case we can see the data which contain listc and listy\n",
    "print(listy)"
   ]
  },
  {
   "cell_type": "code",
   "execution_count": 5,
   "metadata": {},
   "outputs": [
    {
     "name": "stdout",
     "output_type": "stream",
     "text": [
      "13.0\n",
      "20.6416\n"
     ]
    }
   ],
   "source": [
    "sumx = sum(listx)   #Summation of x with the command sum\n",
    "sumy = sum(listy)   #Summation of y with the command sum\n",
    "\n",
    "print(sumx)  #Print sumx\n",
    "print(sumy)  #Print sumy"
   ]
  },
  {
   "cell_type": "code",
   "execution_count": 6,
   "metadata": {},
   "outputs": [
    {
     "name": "stdout",
     "output_type": "stream",
     "text": [
      "169.0\n"
     ]
    }
   ],
   "source": [
    "sumx2 = sumx**2    #Summation x square \n",
    "print(sumx2)       #Print the square of the sumx2"
   ]
  },
  {
   "cell_type": "code",
   "execution_count": 7,
   "metadata": {},
   "outputs": [
    {
     "name": "stdout",
     "output_type": "stream",
     "text": [
      "77.49119999999999\n"
     ]
    }
   ],
   "source": [
    "mxy = []  #Sumary of the multiplication x and y\n",
    "\n",
    "for j in range(n):              #j increment 1 to 1 \n",
    "    Emxy = listx[j] * listy[j]  #The variable Emx2 save every multiplication of each variable(that is the reason why use j)\n",
    "    mxy.append(Emxy)            #And add this result in the list mxy\n",
    "\n",
    "Exy = sum(mxy)   #And make the sum\n",
    "print(Exy)"
   ]
  },
  {
   "cell_type": "code",
   "execution_count": 8,
   "metadata": {},
   "outputs": [
    {
     "name": "stdout",
     "output_type": "stream",
     "text": [
      "75.0\n"
     ]
    }
   ],
   "source": [
    "mx2 = []   #Sumary of square x\n",
    "\n",
    "for j in range(n):      #j increment 1 to 1 \n",
    "    Emx2 = listx[j]**2  #The variable Emx2 save every square of each variable(that is the reason why use j)\n",
    "    mx2.append(Emx2)    #And add this result in the list mx2\n",
    "\n",
    "Ex2 = sum(mx2)    #And make the sum\n",
    "print(Ex2)"
   ]
  },
  {
   "cell_type": "code",
   "execution_count": 9,
   "metadata": {},
   "outputs": [],
   "source": [
    "b1 = float((n*(Exy)-(sumx)*(sumy))/((n*Ex2)-(sumx2)))  #we calculate b1"
   ]
  },
  {
   "cell_type": "code",
   "execution_count": 10,
   "metadata": {},
   "outputs": [],
   "source": [
    "b0 = float((sumy - b1*(sumx))/n)                       #we calculate b0"
   ]
  },
  {
   "cell_type": "code",
   "execution_count": 11,
   "metadata": {},
   "outputs": [
    {
     "name": "stdout",
     "output_type": "stream",
     "text": [
      "y = -0.6404857142857148 + 9.655971428571432x\n"
     ]
    }
   ],
   "source": [
    "print(f\"y = {b1} + {b0}x\")                          #And print the result"
   ]
  }
 ],
 "metadata": {
  "kernelspec": {
   "display_name": "Python 3",
   "language": "python",
   "name": "python3"
  },
  "language_info": {
   "codemirror_mode": {
    "name": "ipython",
    "version": 3
   },
   "file_extension": ".py",
   "mimetype": "text/x-python",
   "name": "python",
   "nbconvert_exporter": "python",
   "pygments_lexer": "ipython3",
   "version": "3.7.4"
  }
 },
 "nbformat": 4,
 "nbformat_minor": 4
}
